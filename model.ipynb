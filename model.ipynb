{
 "cells": [
  {
   "cell_type": "markdown",
   "metadata": {},
   "source": [
    "# Work Order Analysis"
   ]
  },
  {
   "cell_type": "markdown",
   "metadata": {},
   "source": [
    "**First we import our model, which can be foudn in the model.py file, and then we initialize the model.**"
   ]
  },
  {
   "cell_type": "code",
   "execution_count": 11,
   "metadata": {},
   "outputs": [],
   "source": [
    "from model import review_invoices"
   ]
  },
  {
   "cell_type": "code",
   "execution_count": 12,
   "metadata": {},
   "outputs": [
    {
     "name": "stdout",
     "output_type": "stream",
     "text": [
      "Initializing\n"
     ]
    }
   ],
   "source": [
    "ri = review_invoices()"
   ]
  },
  {
   "cell_type": "markdown",
   "metadata": {},
   "source": [
    "## Explore Data\n",
    "**Let's print out some basic info about the dataframe.** "
   ]
  },
  {
   "cell_type": "code",
   "execution_count": 13,
   "metadata": {},
   "outputs": [
    {
     "name": "stdout",
     "output_type": "stream",
     "text": [
      "Running explore_data()\n",
      "\n",
      "Original dataframe info\n",
      "----------------------------------------\n",
      "<class 'pandas.core.frame.DataFrame'>\n",
      "RangeIndex: 314928 entries, 0 to 314927\n",
      "Data columns (total 3 columns):\n",
      "work_order_id    314928 non-null object\n",
      "liability        314928 non-null int64\n",
      "work_order       314928 non-null object\n",
      "dtypes: int64(1), object(2)\n",
      "memory usage: 7.2+ MB\n",
      "----------------------------------------\n",
      "\n",
      "Are there any null values? False\n",
      "\n",
      "Printing the first 5 rows of the original dataframe\n"
     ]
    },
    {
     "data": {
      "text/html": [
       "<div>\n",
       "<style scoped>\n",
       "    .dataframe tbody tr th:only-of-type {\n",
       "        vertical-align: middle;\n",
       "    }\n",
       "\n",
       "    .dataframe tbody tr th {\n",
       "        vertical-align: top;\n",
       "    }\n",
       "\n",
       "    .dataframe thead th {\n",
       "        text-align: right;\n",
       "    }\n",
       "</style>\n",
       "<table border=\"1\" class=\"dataframe\">\n",
       "  <thead>\n",
       "    <tr style=\"text-align: right;\">\n",
       "      <th></th>\n",
       "      <th>work_order_id</th>\n",
       "      <th>liability</th>\n",
       "      <th>work_order</th>\n",
       "    </tr>\n",
       "  </thead>\n",
       "  <tbody>\n",
       "    <tr>\n",
       "      <th>0</th>\n",
       "      <td>B3427137</td>\n",
       "      <td>0</td>\n",
       "      <td>SPRING CHANGE WITH FULL SERVICE Resident would like sooner availability if possible.  \\n\\nMarilyn Alcantara\\nhm_a@sbcglobal.net\\n(661) 860-8849\\nThe garage door is not working properly.  Resident is not able to manually or remotely able to open the door. The spring has snapped.The door is currently closed.  Resident has a vehicle stuck in the garage.  Vendor Paid Not Working, Broken or Damaged Door Garage/Garage Door p0000765-1</td>\n",
       "    </tr>\n",
       "    <tr>\n",
       "      <th>1</th>\n",
       "      <td>B3432387</td>\n",
       "      <td>1</td>\n",
       "      <td>installed microwave REPLACED BLACK MICROWAVE Please replace black microwave.\\n\\n****\\nTechnicians are required to take before and after photos of the specific issue needing repair work while on-site when prompted by the app. Techs may also take other photos using the camera icon in the upper left corner of the work order details. When using the app, the photos will automatically be uploaded into the work order and not saved on the techs phone.\\n****\\n Billed Physical Damage Microwave Appliances 3azp4948</td>\n",
       "    </tr>\n",
       "    <tr>\n",
       "      <th>2</th>\n",
       "      <td>B3883077</td>\n",
       "      <td>0</td>\n",
       "      <td>nueva kitchen faucet y 2 nuevos angle stops need to replace damaged kitchen faucet\\nneed to replace damaged angle stop with water supplies  Call 60 minutes before arrival.\\nRochelle Edwards\\nEmail: Rochelle.Edwards@cdcr.ca.gov | Phone: (951) 398-7760\\nThe kitchen faucet is leaking and sticks. No water comes through. It's very old. Vendor Paid Broken/Leaky Pipe or Faucet Exterior Lines/Fixtures Plumbing 41188-1</td>\n",
       "    </tr>\n",
       "    <tr>\n",
       "      <th>3</th>\n",
       "      <td>B3374711</td>\n",
       "      <td>0</td>\n",
       "      <td>need a leak detection company  went to this house to check out a leak in the wall by the laundry. tech cut a hole in the wall and can't find the leak, best is to send a leak detection company to find where the water is coming from. ***Francisco (786) 312-7439***. Please call resident when technician is 30 minutes out.\\n\\nResident is having a leak coming from the tile floor in the kitchen connected to the back room where the washer/dryer and water heater is located. They have turned off water to the house to prevent any further damage.  Vendor Paid Broken/Leaky Pipe or Faucet Interior Lines/Fixtures Plumbing 10063796</td>\n",
       "    </tr>\n",
       "    <tr>\n",
       "      <th>4</th>\n",
       "      <td>B3483124</td>\n",
       "      <td>0</td>\n",
       "      <td>Talked to field supervisor and advised him of the issue and leak source he had told me that he was going to either grab leaking part or do a washer swap today   ;Tested.   Washer is leaking from the bottom as soon you turn on. Cannot use at all! Cannot provide photos because water has been cleaned up on laundry room floor. Cannot see anything else that’s unhooked from wall or anything.  Landlord Resolved Dryer Vent Washer/Dryer Appliances 3was1816</td>\n",
       "    </tr>\n",
       "  </tbody>\n",
       "</table>\n",
       "</div>"
      ],
      "text/plain": [
       "  work_order_id  liability  \\\n",
       "0  B3427137      0           \n",
       "1  B3432387      1           \n",
       "2  B3883077      0           \n",
       "3  B3374711      0           \n",
       "4  B3483124      0           \n",
       "\n",
       "                                                                                                                                                                                                                                                                                                                                                                                                                                                                                                                                                                                                                                        work_order  \n",
       "0   SPRING CHANGE WITH FULL SERVICE Resident would like sooner availability if possible.  \\n\\nMarilyn Alcantara\\nhm_a@sbcglobal.net\\n(661) 860-8849\\nThe garage door is not working properly.  Resident is not able to manually or remotely able to open the door. The spring has snapped.The door is currently closed.  Resident has a vehicle stuck in the garage.  Vendor Paid Not Working, Broken or Damaged Door Garage/Garage Door p0000765-1                                                                                                                                                                                                 \n",
       "1  installed microwave REPLACED BLACK MICROWAVE Please replace black microwave.\\n\\n****\\nTechnicians are required to take before and after photos of the specific issue needing repair work while on-site when prompted by the app. Techs may also take other photos using the camera icon in the upper left corner of the work order details. When using the app, the photos will automatically be uploaded into the work order and not saved on the techs phone.\\n****\\n Billed Physical Damage Microwave Appliances 3azp4948                                                                                                                     \n",
       "2  nueva kitchen faucet y 2 nuevos angle stops need to replace damaged kitchen faucet\\nneed to replace damaged angle stop with water supplies  Call 60 minutes before arrival.\\nRochelle Edwards\\nEmail: Rochelle.Edwards@cdcr.ca.gov | Phone: (951) 398-7760\\nThe kitchen faucet is leaking and sticks. No water comes through. It's very old. Vendor Paid Broken/Leaky Pipe or Faucet Exterior Lines/Fixtures Plumbing 41188-1                                                                                                                                                                                                                    \n",
       "3  need a leak detection company  went to this house to check out a leak in the wall by the laundry. tech cut a hole in the wall and can't find the leak, best is to send a leak detection company to find where the water is coming from. ***Francisco (786) 312-7439***. Please call resident when technician is 30 minutes out.\\n\\nResident is having a leak coming from the tile floor in the kitchen connected to the back room where the washer/dryer and water heater is located. They have turned off water to the house to prevent any further damage.  Vendor Paid Broken/Leaky Pipe or Faucet Interior Lines/Fixtures Plumbing 10063796  \n",
       "4  Talked to field supervisor and advised him of the issue and leak source he had told me that he was going to either grab leaking part or do a washer swap today   ;Tested.   Washer is leaking from the bottom as soon you turn on. Cannot use at all! Cannot provide photos because water has been cleaned up on laundry room floor. Cannot see anything else that’s unhooked from wall or anything.  Landlord Resolved Dryer Vent Washer/Dryer Appliances 3was1816                                                                                                                                                                              "
      ]
     },
     "metadata": {},
     "output_type": "display_data"
    }
   ],
   "source": [
    "ri.explore_data()"
   ]
  },
  {
   "cell_type": "markdown",
   "metadata": {},
   "source": [
    "**The data contains duplicate work order descriptions. Let's find and print out the duplicates. This includes the original row too. There are 136 rows, so we will just print the first 5**"
   ]
  },
  {
   "cell_type": "code",
   "execution_count": 22,
   "metadata": {},
   "outputs": [
    {
     "data": {
      "text/html": [
       "<div>\n",
       "<style scoped>\n",
       "    .dataframe tbody tr th:only-of-type {\n",
       "        vertical-align: middle;\n",
       "    }\n",
       "\n",
       "    .dataframe tbody tr th {\n",
       "        vertical-align: top;\n",
       "    }\n",
       "\n",
       "    .dataframe thead th {\n",
       "        text-align: right;\n",
       "    }\n",
       "</style>\n",
       "<table border=\"1\" class=\"dataframe\">\n",
       "  <thead>\n",
       "    <tr style=\"text-align: right;\">\n",
       "      <th></th>\n",
       "      <th>work_order_id</th>\n",
       "      <th>liability</th>\n",
       "      <th>work_order</th>\n",
       "    </tr>\n",
       "  </thead>\n",
       "  <tbody>\n",
       "    <tr>\n",
       "      <th>217602</th>\n",
       "      <td>B3859733</td>\n",
       "      <td>0</td>\n",
       "      <td>Closed Breaker Wiring Electrical/Lighting 10058753</td>\n",
       "    </tr>\n",
       "    <tr>\n",
       "      <th>281530</th>\n",
       "      <td>B3859730</td>\n",
       "      <td>0</td>\n",
       "      <td>Closed Breaker Wiring Electrical/Lighting 10058753</td>\n",
       "    </tr>\n",
       "    <tr>\n",
       "      <th>126073</th>\n",
       "      <td>B3452868</td>\n",
       "      <td>0</td>\n",
       "      <td>Closed Damaged Carpet Flooring 10083473</td>\n",
       "    </tr>\n",
       "    <tr>\n",
       "      <th>187112</th>\n",
       "      <td>B3452871</td>\n",
       "      <td>0</td>\n",
       "      <td>Closed Damaged Carpet Flooring 10083473</td>\n",
       "    </tr>\n",
       "    <tr>\n",
       "      <th>100272</th>\n",
       "      <td>B3452870</td>\n",
       "      <td>0</td>\n",
       "      <td>Closed Damaged Carpet Flooring 10083473</td>\n",
       "    </tr>\n",
       "  </tbody>\n",
       "</table>\n",
       "</div>"
      ],
      "text/plain": [
       "       work_order_id  liability  \\\n",
       "217602  B3859733      0           \n",
       "281530  B3859730      0           \n",
       "126073  B3452868      0           \n",
       "187112  B3452871      0           \n",
       "100272  B3452870      0           \n",
       "\n",
       "                                                   work_order  \n",
       "217602     Closed Breaker Wiring Electrical/Lighting 10058753  \n",
       "281530     Closed Breaker Wiring Electrical/Lighting 10058753  \n",
       "126073     Closed Damaged Carpet Flooring 10083473             \n",
       "187112     Closed Damaged Carpet Flooring 10083473             \n",
       "100272     Closed Damaged Carpet Flooring 10083473             "
      ]
     },
     "execution_count": 22,
     "metadata": {},
     "output_type": "execute_result"
    }
   ],
   "source": [
    "ri.duplicate_terms.head()"
   ]
  },
  {
   "cell_type": "markdown",
   "metadata": {},
   "source": [
    "**The data also contains duplicate work order numbers. Let's view those as well.**"
   ]
  },
  {
   "cell_type": "code",
   "execution_count": 15,
   "metadata": {},
   "outputs": [
    {
     "data": {
      "text/html": [
       "<div>\n",
       "<style scoped>\n",
       "    .dataframe tbody tr th:only-of-type {\n",
       "        vertical-align: middle;\n",
       "    }\n",
       "\n",
       "    .dataframe tbody tr th {\n",
       "        vertical-align: top;\n",
       "    }\n",
       "\n",
       "    .dataframe thead th {\n",
       "        text-align: right;\n",
       "    }\n",
       "</style>\n",
       "<table border=\"1\" class=\"dataframe\">\n",
       "  <thead>\n",
       "    <tr style=\"text-align: right;\">\n",
       "      <th></th>\n",
       "      <th>work_order_id</th>\n",
       "      <th>liability</th>\n",
       "      <th>work_order</th>\n",
       "    </tr>\n",
       "  </thead>\n",
       "  <tbody>\n",
       "    <tr>\n",
       "      <th>59184</th>\n",
       "      <td>B3598826</td>\n",
       "      <td>1</td>\n",
       "      <td>Email: msbkj3@yahoo.com | Phone: (916) 416-5308\\n\\nResident called stating that a piece of glass has broken into the kitchen sink and is causing the garbage disposal not to drain properly Landlord Resolved Not Working, Broken or Damaged Garbage Disposal Plumbing 207140-1</td>\n",
       "    </tr>\n",
       "    <tr>\n",
       "      <th>180623</th>\n",
       "      <td>B3598826</td>\n",
       "      <td>1</td>\n",
       "      <td>Email: msbkj3@yahoo.com | Phone: (916) 416-5308\\n\\nResident called stating that a piece of glass has broken into the kitchen sink and is causing the garbage disposal not to drain properly Landlord Resolved Not Working, Broken or Damaged Garbage Disposal Plumbing 10009790</td>\n",
       "    </tr>\n",
       "    <tr>\n",
       "      <th>73952</th>\n",
       "      <td>B3621722</td>\n",
       "      <td>1</td>\n",
       "      <td>Trimmed large tree shrub that is blocking the pedestrian walkway and fire hydrant. According to the fire department with code enforcement the requirements are 3-4 feet away from the fire hydrant and trimmed bush away from the sidewalk.\\n Re-opened due to citation from fire department. \\nCONTACT: Dena Brayshaw | \\nEmail: dena.brayshaw@gmail.com | Phone: (707) 685-0957\\n\\nI have tried to upload photos but unable to do so. Vendor Paid Trees/Shrubs Trees/Plants Landscape/Irrigation 10031939</td>\n",
       "    </tr>\n",
       "    <tr>\n",
       "      <th>233783</th>\n",
       "      <td>B3621722</td>\n",
       "      <td>1</td>\n",
       "      <td>Trimmed large tree shrub that is blocking the pedestrian walkway and fire hydrant. According to the fire department with code enforcement the requirements are 3-4 feet away from the fire hydrant and trimmed bush away from the sidewalk.\\n Re-opened due to citation from fire department. \\nCONTACT: Dena Brayshaw | \\nEmail: dena.brayshaw@gmail.com | Phone: (707) 685-0957\\n\\nI have tried to upload photos but unable to do so. Completed And Invoiced Trees/Shrubs Trees/Plants Landscape/Irrigation 31610-1</td>\n",
       "    </tr>\n",
       "    <tr>\n",
       "      <th>142643</th>\n",
       "      <td>B3668327</td>\n",
       "      <td>1</td>\n",
       "      <td>Trim 6 large  Oleander trees at back yard. Clear and haul all tree trimmings CONTACT: Gregory Stacy \\n(707) 294-9498 Email: greggolf61@yahoo.com | \\nResident stated that there are huge Oleander trees that have grown larger than 8 feet, outside of his home. He is urging that someone come to cut them down. Resident is unable to access garbage area outside of his home. Completed And Invoiced Tree Trimming Needed Trees/Plants Landscape/Irrigation 10096549</td>\n",
       "    </tr>\n",
       "    <tr>\n",
       "      <th>217353</th>\n",
       "      <td>B3668327</td>\n",
       "      <td>1</td>\n",
       "      <td>Trim 6 large  Oleander trees at back yard. Clear and haul all tree trimmings CONTACT: Gregory Stacy \\n(707) 294-9498 Email: greggolf61@yahoo.com | \\nResident stated that there are huge Oleander trees that have grown larger than 8 feet, outside of his home. He is urging that someone come to cut them down. Resident is unable to access garbage area outside of his home. Billed Tree Trimming Needed Trees/Plants Landscape/Irrigation 10096549</td>\n",
       "    </tr>\n",
       "  </tbody>\n",
       "</table>\n",
       "</div>"
      ],
      "text/plain": [
       "       work_order_id  liability  \\\n",
       "59184   B3598826      1           \n",
       "180623  B3598826      1           \n",
       "73952   B3621722      1           \n",
       "233783  B3621722      1           \n",
       "142643  B3668327      1           \n",
       "217353  B3668327      1           \n",
       "\n",
       "                                                                                                                                                                                                                                                                                                                                                                                                                                                                                                                    work_order  \n",
       "59184     Email: msbkj3@yahoo.com | Phone: (916) 416-5308\\n\\nResident called stating that a piece of glass has broken into the kitchen sink and is causing the garbage disposal not to drain properly Landlord Resolved Not Working, Broken or Damaged Garbage Disposal Plumbing 207140-1                                                                                                                                                                                                                                       \n",
       "180623    Email: msbkj3@yahoo.com | Phone: (916) 416-5308\\n\\nResident called stating that a piece of glass has broken into the kitchen sink and is causing the garbage disposal not to drain properly Landlord Resolved Not Working, Broken or Damaged Garbage Disposal Plumbing 10009790                                                                                                                                                                                                                                       \n",
       "73952    Trimmed large tree shrub that is blocking the pedestrian walkway and fire hydrant. According to the fire department with code enforcement the requirements are 3-4 feet away from the fire hydrant and trimmed bush away from the sidewalk.\\n Re-opened due to citation from fire department. \\nCONTACT: Dena Brayshaw | \\nEmail: dena.brayshaw@gmail.com | Phone: (707) 685-0957\\n\\nI have tried to upload photos but unable to do so. Vendor Paid Trees/Shrubs Trees/Plants Landscape/Irrigation 10031939            \n",
       "233783   Trimmed large tree shrub that is blocking the pedestrian walkway and fire hydrant. According to the fire department with code enforcement the requirements are 3-4 feet away from the fire hydrant and trimmed bush away from the sidewalk.\\n Re-opened due to citation from fire department. \\nCONTACT: Dena Brayshaw | \\nEmail: dena.brayshaw@gmail.com | Phone: (707) 685-0957\\n\\nI have tried to upload photos but unable to do so. Completed And Invoiced Trees/Shrubs Trees/Plants Landscape/Irrigation 31610-1  \n",
       "142643   Trim 6 large  Oleander trees at back yard. Clear and haul all tree trimmings CONTACT: Gregory Stacy \\n(707) 294-9498 Email: greggolf61@yahoo.com | \\nResident stated that there are huge Oleander trees that have grown larger than 8 feet, outside of his home. He is urging that someone come to cut them down. Resident is unable to access garbage area outside of his home. Completed And Invoiced Tree Trimming Needed Trees/Plants Landscape/Irrigation 10096549                                                \n",
       "217353   Trim 6 large  Oleander trees at back yard. Clear and haul all tree trimmings CONTACT: Gregory Stacy \\n(707) 294-9498 Email: greggolf61@yahoo.com | \\nResident stated that there are huge Oleander trees that have grown larger than 8 feet, outside of his home. He is urging that someone come to cut them down. Resident is unable to access garbage area outside of his home. Billed Tree Trimming Needed Trees/Plants Landscape/Irrigation 10096549                                                                "
      ]
     },
     "execution_count": 15,
     "metadata": {},
     "output_type": "execute_result"
    }
   ],
   "source": [
    "ri.duplicate_wo"
   ]
  },
  {
   "cell_type": "markdown",
   "metadata": {},
   "source": [
    "## Clean Data\n",
    "**Let's clean the dataframe and take a look at some of this basic info again. We're trying to remove as much noise from the data as possible.It removes phone numbers, emails and property IDs and creates new columns for that information. This can be seen in the new dataframe below.** "
   ]
  },
  {
   "cell_type": "markdown",
   "metadata": {},
   "source": [
    "**NOTE: This method doesn't lemmatize the text, so we haven't done stuff yet like remove punctuation, plurals, capital letters, etc. Those steps occurr in the normalize data section**"
   ]
  },
  {
   "cell_type": "code",
   "execution_count": 16,
   "metadata": {},
   "outputs": [
    {
     "name": "stdout",
     "output_type": "stream",
     "text": [
      "Running clean_df()\n",
      "\n",
      "Dropping work orders with invalid text: \"#NAME?\"\n",
      "Extracting and removing phone numbers\n",
      "Extracting and removing email addresses\n",
      "Removing some meaningless words from work order templates\n",
      "Extracting and removing property ID's\n",
      "Replacing all non-word characters with a space\n",
      "Making work_order column all lower case\n",
      "Turning column of strings into column of lists (This takes some time)\n",
      "\n",
      "Cleaned dataframe info\n",
      "----------------------------------------\n",
      "<class 'pandas.core.frame.DataFrame'>\n",
      "RangeIndex: 314922 entries, 0 to 314921\n",
      "Data columns (total 6 columns):\n",
      "work_order_id    314922 non-null object\n",
      "liability        314922 non-null int64\n",
      "work_order       314922 non-null object\n",
      "phone_num        202257 non-null object\n",
      "email            186003 non-null object\n",
      "property_id      314922 non-null object\n",
      "dtypes: int64(1), object(5)\n",
      "memory usage: 14.4+ MB\n",
      "----------------------------------------\n",
      "\n",
      "Printing the first 5 rows of the clean dataframe\n"
     ]
    },
    {
     "data": {
      "text/html": [
       "<div>\n",
       "<style scoped>\n",
       "    .dataframe tbody tr th:only-of-type {\n",
       "        vertical-align: middle;\n",
       "    }\n",
       "\n",
       "    .dataframe tbody tr th {\n",
       "        vertical-align: top;\n",
       "    }\n",
       "\n",
       "    .dataframe thead th {\n",
       "        text-align: right;\n",
       "    }\n",
       "</style>\n",
       "<table border=\"1\" class=\"dataframe\">\n",
       "  <thead>\n",
       "    <tr style=\"text-align: right;\">\n",
       "      <th></th>\n",
       "      <th>work_order_id</th>\n",
       "      <th>liability</th>\n",
       "      <th>work_order</th>\n",
       "      <th>phone_num</th>\n",
       "      <th>email</th>\n",
       "      <th>property_id</th>\n",
       "    </tr>\n",
       "  </thead>\n",
       "  <tbody>\n",
       "    <tr>\n",
       "      <th>0</th>\n",
       "      <td>B3427137</td>\n",
       "      <td>0</td>\n",
       "      <td>[spring, change, with, full, service, resident, would, like, sooner, availability, if, possible, marilyn, alcantara, the, garage, door, is, not, working, properly, resident, is, not, able, to, manually, or, remotely, able, to, open, the, door, the, spring, has, snapped, the, door, is, currently, closed, resident, has, a, vehicle, stuck, in, the, garage, vendor, paid, not, working, broken, or, damaged, door, garage, garage, door]</td>\n",
       "      <td>(661) 860-8849</td>\n",
       "      <td>hm_a@sbcglobal.net</td>\n",
       "      <td>p0000765-1</td>\n",
       "    </tr>\n",
       "    <tr>\n",
       "      <th>1</th>\n",
       "      <td>B3432387</td>\n",
       "      <td>1</td>\n",
       "      <td>[installed, microwave, replaced, black, microwave, please, replace, black, microwave, technicians, are, required, to, take, before, and, after, photos, of, the, specific, issue, needing, repair, work, while, on, site, when, prompted, by, the, app, techs, may, also, take, other, photos, using, the, camera, icon, in, the, upper, left, corner, of, the, work, order, details, when, using, the, app, the, photos, will, automatically, be, uploaded, into, the, work, order, and, not, saved, on, the, techs, phone, billed, physical, damage, microwave, appliances]</td>\n",
       "      <td>NaN</td>\n",
       "      <td>NaN</td>\n",
       "      <td>3azp4948</td>\n",
       "    </tr>\n",
       "    <tr>\n",
       "      <th>2</th>\n",
       "      <td>B3883077</td>\n",
       "      <td>0</td>\n",
       "      <td>[nueva, kitchen, faucet, y, 2, nuevos, angle, stops, need, to, replace, damaged, kitchen, faucet, need, to, replace, damaged, angle, stop, with, water, supplies, call, 60, minutes, before, arrival, rochelle, edwards, the, kitchen, faucet, is, leaking, and, sticks, no, water, comes, through, it, s, very, old, vendor, paid, broken, leaky, pipe, or, faucet, exterior, lines, fixtures, plumbing]</td>\n",
       "      <td>(951) 398-7760</td>\n",
       "      <td>Rochelle.Edwards@cdcr.ca.gov</td>\n",
       "      <td>41188-1</td>\n",
       "    </tr>\n",
       "    <tr>\n",
       "      <th>3</th>\n",
       "      <td>B3374711</td>\n",
       "      <td>0</td>\n",
       "      <td>[need, a, leak, detection, company, went, to, this, house, to, check, out, a, leak, in, the, wall, by, the, laundry, tech, cut, a, hole, in, the, wall, and, can, t, find, the, leak, best, is, to, send, a, leak, detection, company, to, find, where, the, water, is, coming, from, francisco, please, call, resident, when, technician, is, 30, minutes, out, resident, is, having, a, leak, coming, from, the, tile, floor, in, the, kitchen, connected, to, the, back, room, where, the, washer, dryer, and, water, heater, is, located, they, have, turned, off, water, to, the, house, to, prevent, any, further, damage, vendor, ...]</td>\n",
       "      <td>(786) 312-7439</td>\n",
       "      <td>NaN</td>\n",
       "      <td>10063796</td>\n",
       "    </tr>\n",
       "    <tr>\n",
       "      <th>4</th>\n",
       "      <td>B3483124</td>\n",
       "      <td>0</td>\n",
       "      <td>[talked, to, field, supervisor, and, advised, him, of, the, issue, and, leak, source, he, had, told, me, that, he, was, going, to, either, grab, leaking, part, or, do, a, washer, swap, today, tested, washer, is, leaking, from, the, bottom, as, soon, you, turn, on, can, not, use, at, all, can, not, provide, photos, because, water, has, been, cleaned, up, on, laundry, room, floor, can, not, see, anything, else, that, s, unhooked, from, wall, or, anything, landlord, resolved, dryer, vent, washer, dryer, appliances]</td>\n",
       "      <td>NaN</td>\n",
       "      <td>NaN</td>\n",
       "      <td>3was1816</td>\n",
       "    </tr>\n",
       "  </tbody>\n",
       "</table>\n",
       "</div>"
      ],
      "text/plain": [
       "  work_order_id  liability  \\\n",
       "0  B3427137      0           \n",
       "1  B3432387      1           \n",
       "2  B3883077      0           \n",
       "3  B3374711      0           \n",
       "4  B3483124      0           \n",
       "\n",
       "                                                                                                                                                                                                                                                                                                                                                                                                                                                                                                                                                                                                                                      work_order  \\\n",
       "0  [spring, change, with, full, service, resident, would, like, sooner, availability, if, possible, marilyn, alcantara, the, garage, door, is, not, working, properly, resident, is, not, able, to, manually, or, remotely, able, to, open, the, door, the, spring, has, snapped, the, door, is, currently, closed, resident, has, a, vehicle, stuck, in, the, garage, vendor, paid, not, working, broken, or, damaged, door, garage, garage, door]                                                                                                                                                                                                \n",
       "1  [installed, microwave, replaced, black, microwave, please, replace, black, microwave, technicians, are, required, to, take, before, and, after, photos, of, the, specific, issue, needing, repair, work, while, on, site, when, prompted, by, the, app, techs, may, also, take, other, photos, using, the, camera, icon, in, the, upper, left, corner, of, the, work, order, details, when, using, the, app, the, photos, will, automatically, be, uploaded, into, the, work, order, and, not, saved, on, the, techs, phone, billed, physical, damage, microwave, appliances]                                                                   \n",
       "2  [nueva, kitchen, faucet, y, 2, nuevos, angle, stops, need, to, replace, damaged, kitchen, faucet, need, to, replace, damaged, angle, stop, with, water, supplies, call, 60, minutes, before, arrival, rochelle, edwards, the, kitchen, faucet, is, leaking, and, sticks, no, water, comes, through, it, s, very, old, vendor, paid, broken, leaky, pipe, or, faucet, exterior, lines, fixtures, plumbing]                                                                                                                                                                                                                                       \n",
       "3  [need, a, leak, detection, company, went, to, this, house, to, check, out, a, leak, in, the, wall, by, the, laundry, tech, cut, a, hole, in, the, wall, and, can, t, find, the, leak, best, is, to, send, a, leak, detection, company, to, find, where, the, water, is, coming, from, francisco, please, call, resident, when, technician, is, 30, minutes, out, resident, is, having, a, leak, coming, from, the, tile, floor, in, the, kitchen, connected, to, the, back, room, where, the, washer, dryer, and, water, heater, is, located, they, have, turned, off, water, to, the, house, to, prevent, any, further, damage, vendor, ...]   \n",
       "4  [talked, to, field, supervisor, and, advised, him, of, the, issue, and, leak, source, he, had, told, me, that, he, was, going, to, either, grab, leaking, part, or, do, a, washer, swap, today, tested, washer, is, leaking, from, the, bottom, as, soon, you, turn, on, can, not, use, at, all, can, not, provide, photos, because, water, has, been, cleaned, up, on, laundry, room, floor, can, not, see, anything, else, that, s, unhooked, from, wall, or, anything, landlord, resolved, dryer, vent, washer, dryer, appliances]                                                                                                           \n",
       "\n",
       "        phone_num                         email property_id  \n",
       "0  (661) 860-8849  hm_a@sbcglobal.net            p0000765-1  \n",
       "1  NaN             NaN                           3azp4948    \n",
       "2  (951) 398-7760  Rochelle.Edwards@cdcr.ca.gov  41188-1     \n",
       "3  (786) 312-7439  NaN                           10063796    \n",
       "4  NaN             NaN                           3was1816    "
      ]
     },
     "metadata": {},
     "output_type": "display_data"
    }
   ],
   "source": [
    "ri.clean_df()"
   ]
  },
  {
   "cell_type": "markdown",
   "metadata": {},
   "source": [
    "## Normalize Data"
   ]
  },
  {
   "cell_type": "markdown",
   "metadata": {},
   "source": [
    "**Let's now normalize the work_order column. We'll do this by lemmatizing the text. This is where we remove punctuation, plurals, capital letters, etc This is done with the NLTK package. Then we add a few equivalence classes and drop all words that have less than three letters.**"
   ]
  },
  {
   "cell_type": "code",
   "execution_count": 17,
   "metadata": {},
   "outputs": [
    {
     "name": "stdout",
     "output_type": "stream",
     "text": [
      "Running link_words()\n",
      "\n",
      "Lemmatizing. This one takes some time too...\n",
      "Creating equivalence classes...\n",
      "Dropping words with less than 3 letters...\n",
      "\n",
      "We've turned the work_order column into a list called \"documents\"\n"
     ]
    }
   ],
   "source": [
    "ri.link_words()"
   ]
  },
  {
   "cell_type": "markdown",
   "metadata": {},
   "source": [
    "**Let's print out the first 5 items in the \"documents\" list, which corresponds to the first 5 items in the work_order column from our dataframe. You can see that all the text is normalized and shorter words and numbers have been removed**"
   ]
  },
  {
   "cell_type": "code",
   "execution_count": 18,
   "metadata": {},
   "outputs": [
    {
     "data": {
      "text/plain": [
       "['spring change with full service resident would like sooner availability possible marilyn alcantara the garage door not working properly resident not able manually remotely able open the door the spring snapped the door currently closed resident vehicle stuck the garage vendor paid not working broken damaged door garage garage door',\n",
       " 'installed microwave replaired blairk microwave please replaire blairk microwave techniciannician are required take before and after photo the specific issue needing repair work while site when prompted the app technician may also take other photo using the camera icon the upper left corner the work order detail when using the app the photo will automatically uploaded into the work order and not saved the technician phone billed physical damage microwave appliance',\n",
       " 'nueva kitchen faucet nuevos angle stop need replaire damaged kitchen faucet need replaire damaged angle stop with water supply call minute before arrival rochelle edward the kitchen faucet leaking and stick water come through very old vendor paid broken leaky pipe faucet exterior line fixture plumbing',\n",
       " 'need leak detection company went this house check out leak the wall the laundry technician cut hole the wall and can find the leak best send leak detection company find where the water coming from francisco please call resident when techniciannician minute out resident having leak coming from the tile floor the kitchen connected the bairk room where the washer dryer and water heater located they have turned off water the house prevent any further damage vendor paid broken leaky pipe faucet interior line fixture plumbing',\n",
       " 'talked field supervisor and advised him the issue and leak source had told that going either grab leaking part washer swap today tested washer leaking from the bottom soon you turn can not use all can not provide photo because water been cleaned laundry room floor can not see anything else that unhooked from wall anything landlord resolved dryer vent washer dryer appliance']"
      ]
     },
     "execution_count": 18,
     "metadata": {},
     "output_type": "execute_result"
    }
   ],
   "source": [
    "ri.documents[:5]"
   ]
  },
  {
   "cell_type": "markdown",
   "metadata": {},
   "source": [
    "\n",
    "**Here is where we vectorize the text and print the top 20 TFIDF scores.**"
   ]
  },
  {
   "cell_type": "code",
   "execution_count": 20,
   "metadata": {},
   "outputs": [
    {
     "name": "stdout",
     "output_type": "stream",
     "text": [
      "\n",
      " Printing the top 20 TFIDF scores...\n",
      "\n",
      "door                                               Score: 14375.20274580266\n",
      "resident                                           Score: 13101.375530326442\n",
      "resolved                                           Score: 11451.114138281337\n",
      "water                                              Score: 11449.088223308821\n",
      "landlord                                           Score: 11424.573230256461\n",
      "inspection                                         Score: 10935.580536676796\n",
      "house                                              Score: 9734.899769795642\n",
      "working                                            Score: 9419.472988435014\n",
      "broken                                             Score: 9336.968418485654\n",
      "unit                                               Score: 8727.62539428047\n",
      "damaged                                            Score: 8501.11029008282\n",
      "toilet                                             Score: 8482.337064902307\n",
      "vendor                                             Score: 8289.959505930006\n",
      "replaired                                          Score: 7884.7268900250565\n",
      "paid                                               Score: 7783.1256873580305\n",
      "leaking                                            Score: 7646.541489661894\n",
      "air                                                Score: 7595.979613157059\n",
      "need                                               Score: 7438.7579456777685\n",
      "leak                                               Score: 6941.921322292874\n",
      "plumbing                                           Score: 6880.778756511085\n"
     ]
    }
   ],
   "source": [
    "ri.vectorize()"
   ]
  },
  {
   "cell_type": "markdown",
   "metadata": {},
   "source": [
    "## Create the Model and Output"
   ]
  },
  {
   "cell_type": "markdown",
   "metadata": {},
   "source": [
    "**Now we train the model over ten epochs. The loss and accuracy for each epoch is printed. We also print a confusion matrix and the accuracy scores for the model. This includes accuracy score, balanced accuracy score, and precision score.**"
   ]
  },
  {
   "cell_type": "code",
   "execution_count": 21,
   "metadata": {
    "scrolled": true
   },
   "outputs": [
    {
     "name": "stdout",
     "output_type": "stream",
     "text": [
      "Setting up the model...\n",
      "Compiling the model...\n",
      "Fitting the model...\n",
      "Epoch 1/10\n",
      "251937/251937 [==============================] - 15s 59us/step - loss: 0.0808 - acc: 0.9810\n",
      "Epoch 2/10\n",
      "251937/251937 [==============================] - 9s 34us/step - loss: 0.0496 - acc: 0.9860\n",
      "Epoch 3/10\n",
      "251937/251937 [==============================] - 8s 34us/step - loss: 0.0444 - acc: 0.9872\n",
      "Epoch 4/10\n",
      "251937/251937 [==============================] - 9s 35us/step - loss: 0.0403 - acc: 0.9883\n",
      "Epoch 5/10\n",
      "251937/251937 [==============================] - 9s 35us/step - loss: 0.0368 - acc: 0.9892\n",
      "Epoch 6/10\n",
      "251937/251937 [==============================] - 9s 36us/step - loss: 0.0335 - acc: 0.9900\n",
      "Epoch 7/10\n",
      "251937/251937 [==============================] - 9s 34us/step - loss: 0.0301 - acc: 0.9909\n",
      "Epoch 8/10\n",
      "251937/251937 [==============================] - 9s 34us/step - loss: 0.0268 - acc: 0.9920\n",
      "Epoch 9/10\n",
      "251937/251937 [==============================] - 9s 35us/step - loss: 0.0237 - acc: 0.9928\n",
      "Epoch 10/10\n",
      "251937/251937 [==============================] - 9s 35us/step - loss: 0.0207 - acc: 0.9939\n",
      "Confusion matrix:\n",
      "        0    1\n",
      "0  61423  257\n",
      "1  644    661\n",
      "Accuracy score: 0.9856950067476383\n",
      "Balanced accuracy score: 0.7511733716475095\n",
      "Precision score: 0.7200435729847494\n",
      "Avg precision score: 0.3749363821377865\n",
      "Recall score: 0.5065134099616858\n",
      "Classification report:               precision    recall  f1-score   support\n",
      "\n",
      "           0       0.99      1.00      0.99     61680\n",
      "           1       0.72      0.51      0.59      1305\n",
      "\n",
      "    accuracy                           0.99     62985\n",
      "   macro avg       0.85      0.75      0.79     62985\n",
      "weighted avg       0.98      0.99      0.98     62985\n",
      "\n",
      "_________________________________________________________________\n",
      "Layer (type)                 Output Shape              Param #   \n",
      "=================================================================\n",
      "dense_7 (Dense)              (None, 100)               200100    \n",
      "_________________________________________________________________\n",
      "dense_8 (Dense)              (None, 1)                 101       \n",
      "=================================================================\n",
      "Total params: 200,201\n",
      "Trainable params: 200,201\n",
      "Non-trainable params: 0\n",
      "_________________________________________________________________\n",
      "None\n"
     ]
    }
   ],
   "source": [
    "ri.partition()\n",
    "ri.visualize()"
   ]
  },
  {
   "cell_type": "code",
   "execution_count": null,
   "metadata": {},
   "outputs": [],
   "source": []
  }
 ],
 "metadata": {
  "kernelspec": {
   "display_name": "Python 3",
   "language": "python",
   "name": "python3"
  },
  "language_info": {
   "codemirror_mode": {
    "name": "ipython",
    "version": 3
   },
   "file_extension": ".py",
   "mimetype": "text/x-python",
   "name": "python",
   "nbconvert_exporter": "python",
   "pygments_lexer": "ipython3",
   "version": "3.6.3"
  }
 },
 "nbformat": 4,
 "nbformat_minor": 2
}
